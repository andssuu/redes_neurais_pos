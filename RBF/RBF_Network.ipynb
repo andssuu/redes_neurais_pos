{
  "nbformat": 4,
  "nbformat_minor": 0,
  "metadata": {
    "colab": {
      "name": "RBF Network",
      "provenance": [],
      "collapsed_sections": [],
      "toc_visible": true
    },
    "kernelspec": {
      "name": "python3",
      "display_name": "Python 3"
    }
  },
  "cells": [
    {
      "cell_type": "markdown",
      "metadata": {
        "id": "7A0GQWDGtrpX"
      },
      "source": [
        "# Rede Neural de Base Radial (RBF)"
      ]
    },
    {
      "cell_type": "markdown",
      "metadata": {
        "id": "r7W_VNPAkFcO"
      },
      "source": [
        "As redes RBF são redes de alimentação direta (feedforward) consistindo de três camadas:\n",
        "\n",
        "\n",
        "1.   **Camada de entrada**: propaga os estímulos\n",
        "2.   **Camada escondida**: Unidades de processamento localmente sintonizáveis, utilizando mapeamento não linear.\n",
        "3.   **Camada de saída**: Unidades de processamento lineares.\n",
        "\n",
        "\n",
        "****\n",
        "\n",
        "**O treinamento dessa rede ocorre de forma híbrida**, combinando aprendizagem não supervisionada (ANS) com a supervisionada(AS). Isso ocorre, pois em geral não se sabe quais saídas se desejam para a camada escondida. Sendo assim, a distribuição de trabalhos ocorre:\n",
        "*   **ANS**: Treina a camada escondida definindo seus parâmetros livres (centros, larguras dos campos receptivos e pesos).\n",
        "*   **AS**: Determina os valores dos pesos entre as camadas escondidas e de saída, considerando constantes os parâmetros já definidos.\n",
        "\n",
        "\n",
        "****\n",
        "\n",
        "**O aprendizado consiste em** determinar os valores para:\n",
        "*   centro das funções de base radial,\n",
        "*   largura das funções,\n",
        "*   pesos da camada de saída.\n",
        "\n",
        "\n",
        "Além disso, para cada neurônio da camada escondida, ele computa uma função de base radial.\n",
        "\n",
        "\n",
        "Os passos necessários são:\n",
        "1.   Utilizar um algoritmo ANS para encontrar os centros (protótipo para um cluster) das RBF;\n",
        "2.   Utilizar métodos heurísticos para determinar a largura (área de influência de um cluster) de cada função;\n",
        "3.   Utilizar um AS para determinar os pesos da camada de saída da rede."
      ]
    },
    {
      "cell_type": "markdown",
      "metadata": {
        "id": "EOIor4J3PFBL"
      },
      "source": [
        "1ª Etapa: Inicialização dos grupos com K-Means"
      ]
    },
    {
      "cell_type": "code",
      "metadata": {
        "id": "VHWuP3AXjvq1",
        "colab": {
          "base_uri": "https://localhost:8080/"
        },
        "outputId": "d60e20f8-27cf-4786-e4b5-805471b0a0c3"
      },
      "source": [
        "!git clone https://github.com/andssuu/redes_neurais_pos.git"
      ],
      "execution_count": null,
      "outputs": [
        {
          "output_type": "stream",
          "text": [
            "Cloning into 'redes_neurais_pos'...\n",
            "remote: Enumerating objects: 59, done.\u001b[K\n",
            "remote: Counting objects: 100% (59/59), done.\u001b[K\n",
            "remote: Compressing objects: 100% (53/53), done.\u001b[K\n",
            "remote: Total 59 (delta 10), reused 2 (delta 0), pack-reused 0\u001b[K\n",
            "Unpacking objects: 100% (59/59), done.\n"
          ],
          "name": "stdout"
        }
      ]
    },
    {
      "cell_type": "markdown",
      "metadata": {
        "id": "_ulVaA8RPSwo"
      },
      "source": [
        "Definição da função de base radial"
      ]
    },
    {
      "cell_type": "code",
      "metadata": {
        "id": "YeqYYe9hPY4v"
      },
      "source": [
        "#função de base radial gaussiana\n",
        "def rbfGaussiana(x, c, s):\n",
        "    return np.exp(-1 / (2 * s**2) * (x-c)**2)\n",
        "\n",
        "#função de cálculo da largura do campo receptivo em que se repete o mesmo valor pra todos os neurônios\n",
        "def computeEqualStds(centers, k):\n",
        "  dist = [np.sqrt(np.sum((c1 - c2) ** 2)) for c1 in centers for c2 in centers]\n",
        "  dMax = np.max(dist)\n",
        "  stds = np.repeat(dMax / np.sqrt(2 * k), k)\n",
        "  return stds"
      ],
      "execution_count": 125,
      "outputs": []
    },
    {
      "cell_type": "markdown",
      "metadata": {
        "id": "52oUNimoPuK3"
      },
      "source": [
        "2ª Etapa - Treinamento de uma Rede Neural"
      ]
    },
    {
      "cell_type": "code",
      "metadata": {
        "id": "RGdrOhYfPzBu"
      },
      "source": [
        "from sklearn.cluster import KMeans\n",
        "import numpy as np\n",
        "\n",
        "class RBFNet(object):\n",
        "    \"\"\"Implementation of a Radial Basis Function Network\"\"\"\n",
        "\n",
        "    def __init__(self, k=3, attnumber=4, lr=0.01, epochs=100, rbf=rbfGaussiana, computeStds=computeEqualStds):\n",
        "        self.k = k  # grupos ou numero de neuronios na camada escondida\n",
        "        self.lr = lr # taxa de aprendizagem\n",
        "        self.epochs = epochs  # número de iterações\n",
        "        self.rbf = rbf # função de base radial\n",
        "        self.computeStds = computeStds  #função de cálculo da largura do campo receptivo\n",
        "        self.w = np.random.randn(self.k, attnumber)\n",
        "        self.b = np.random.randn(1)\n",
        "\n",
        "    def fit(self, X, y):\n",
        "        self.stds = []\n",
        "        #K-Means pra pegar os centros inicias \n",
        "        #1º parâmetro da rede RBF\n",
        "        kmeans = KMeans(\n",
        "            n_clusters=self.k, init='random',\n",
        "            n_init=10, max_iter=300).fit(X)\n",
        "        self.centers = kmeans.cluster_centers_\n",
        "        #print('centers: ', self.centers)\n",
        "\n",
        "        #Cálculo da largura do campo receptivo\n",
        "        #2º parâmetro da rede RBF\n",
        "        self.stds = self.computeStds(self.centers, self.k)\n",
        "        # training\n",
        "        for epoch in range(self.epochs):\n",
        "            for i in range(X.shape[0]):\n",
        "                # forward pass\n",
        "                #calcula a saída de cada neurônio da função de base radial\n",
        "                phi = np.array([self.rbf(X[i], c, s) for c, s, in zip(self.centers, self.stds)])\n",
        "                #calcula somatório do produto da saída da função de base radial e os pesos\n",
        "                F = phi.T.dot(self.w)\n",
        "                F = np.sum(F) + self.b\n",
        "                #saída da rede\n",
        "                out = 0 if F < 0 else 1\n",
        "                #função de perda \n",
        "                loss = (y[i] - out).flatten() ** 2\n",
        "                #print('Loss: {0:.2f}'.format(loss[0]))\n",
        "                #cálculo do erro\n",
        "                error = (y[i] - out).flatten()\n",
        "                #atualização dos pesos\n",
        "                #3º Parâmetro da rede \n",
        "                self.w = self.w + self.lr * error * phi \n",
        "                self.b = self.b + self.lr * error\n",
        "\n",
        "    #calcula saída da rede RBF com a rede treinada\n",
        "    def predict(self, X):\n",
        "        y_pred = []\n",
        "        error = 0\n",
        "        for i in range(X.shape[0]):\n",
        "            a = np.array([self.rbf(X[i], c, s) for c, s, in zip(self.centers, self.stds)])\n",
        "            F = a.T.dot(self.w)\n",
        "            F = np.sum(F) + self.b\n",
        "            out = 0 if F < 0 else 1\n",
        "            y_pred.append(out)\n",
        "        return np.array(y_pred)\n"
      ],
      "execution_count": 114,
      "outputs": []
    },
    {
      "cell_type": "markdown",
      "metadata": {
        "id": "tWNpEtxSW46Q"
      },
      "source": [
        "# Executando a rede neural RBF"
      ]
    },
    {
      "cell_type": "code",
      "metadata": {
        "id": "P75CdFJ4W7mU",
        "colab": {
          "base_uri": "https://localhost:8080/"
        },
        "outputId": "0acea820-c612-4495-8fe8-1b9cf97b2b4a"
      },
      "source": [
        "# Neste código vou utilizar o pandas, framework amplamente utilizado pra lidar com dados\n",
        "import pandas as pd\n",
        "from sklearn.model_selection import train_test_split\n",
        "from sklearn import preprocessing\n",
        "\n",
        "#carrega a base de dados e retorna conjuntos de treinamento e teste\n",
        "def load_data():\n",
        "    url = 'redes_neurais_pos/RBF/iris.csv'\n",
        "    df = pd.read_csv(url)\n",
        "    #remove a ultima coluna (dados)\n",
        "    data = df[df.columns[:-1]]\n",
        "    #normaliza os dados\n",
        "    normalized_data = (data - data.min()) / (data.max() - data.min())\n",
        "    #retorna a última coluna (rótulos)\n",
        "    labels = df[df.columns[-1]]\n",
        "    #separa em conjunto de treinamento e teste com seus respectivos rótulos\n",
        "    X_train, X_test, y_train, y_test = train_test_split(normalized_data, labels, test_size=0.2, random_state=0)\n",
        "    return X_train, X_test, y_train, y_test\n",
        "\n",
        "#chama função que carrega base de dados\n",
        "training_inputs, test_inputs, training_labels, test_labels = load_data()\n",
        "\n",
        "#transforma rótulos do conjunto de treinamento em numeros pra calculo do erro\n",
        "le = preprocessing.LabelEncoder()\n",
        "le.fit(training_labels.values)\n",
        "training_labels_transformed = le.transform(training_labels.values)\n",
        "\n",
        "#chama RBF\n",
        "rbfnet = RBFNet(lr=1e-2, attnumber=4, k=3, computeStds=computeEqualStds)\n",
        "rbfnet.fit(training_inputs.values, training_labels_transformed)\n",
        "\n",
        "#transforma rótulos do conjunto de teste em numeros pra calculo do erro\n",
        "le = preprocessing.LabelEncoder()\n",
        "le.fit(test_labels.values)\n",
        "test_labels_transformed = le.transform(test_labels.values)\n",
        "\n",
        "#y_pred = rbfnet.predict(test_labels_transformed)\n",
        "y_pred = rbfnet.predict(test_inputs.values)\n",
        "\n",
        "errorabs = abs(test_labels_transformed-y_pred)\n",
        "\n",
        "print('error: ', np.sum(errorabs)/len(test_labels_transformed))"
      ],
      "execution_count": 115,
      "outputs": [
        {
          "output_type": "stream",
          "text": [
            "error:  0.6666666666666666\n"
          ],
          "name": "stdout"
        }
      ]
    },
    {
      "cell_type": "markdown",
      "metadata": {
        "id": "jLO2Gq4Jtso3"
      },
      "source": [
        "# Descrição Mini Projeto"
      ]
    },
    {
      "cell_type": "markdown",
      "metadata": {
        "id": "kOrl4i0areNo"
      },
      "source": [
        "Utilizando o código acima, modifique a última seção (Executando com Base de Dados) para que ele seja executado com a base de dados do arquivo iris.csv. Depois, modifique a função de base radial implementada (Gaussiana) para a Multiquadrática Inversa e calcule a taxa de erro.\n",
        "\n",
        "\n",
        "1- Calcular a quantidade de neurônios escondidos:\n",
        "\n",
        "a) 3\n",
        "\n",
        "b) 5\n",
        "\n",
        "c) 7\n",
        "\n",
        "d) 9\n",
        "\n",
        "Qual foi a melhor configuração? Avaliaria um outro valor?\n",
        "\n",
        "2- Utilizando a melhor configuração da questão anterior, calcular a taxa de erro usando uma das outras maneiras de retorno da largura do campo receptivo da função de base radial, em que cada neurônio possui sua própria largura. \n",
        "\n",
        "\n",
        "3- Calcular a taxa de erro combinando 2 funções de Base Radial e as duas maneiras de cálculo da largura do campo receptivo:\n",
        "\n",
        "a) Gaussiana\n",
        "\n",
        "b) Multiquadrática Inversa\n",
        "\n",
        "\n",
        "Qual foi a melhor configuração?\n",
        "\n",
        "\n",
        "\n",
        "DATA DE ENTREGA: 25/11/2020\n"
      ]
    },
    {
      "cell_type": "markdown",
      "metadata": {
        "id": "60r0izMX7VId"
      },
      "source": [
        "**Reposta questão 1**\n",
        "\n",
        "Primeiramente vamos definir a função de base radial Multiquadrática inversa"
      ]
    },
    {
      "cell_type": "code",
      "metadata": {
        "id": "c-fZNuqP6TU9"
      },
      "source": [
        "def multiquadratica_inversa(x, c, s):\n",
        "    return 1 / np.sqrt((x-c)**2 + s**2)"
      ],
      "execution_count": 139,
      "outputs": []
    },
    {
      "cell_type": "markdown",
      "metadata": {
        "id": "c160sFn-8PcQ"
      },
      "source": [
        "A seguir os ajustes no código para a rede rodar em cima da base Íris. Basicamente adicionamos um neurônio na camada de saída para cada classe. Um vez que a base Íris possui três classes, três neurônios foram adicionados na camada de saída"
      ]
    },
    {
      "cell_type": "code",
      "metadata": {
        "id": "4chWwPrB8JKb"
      },
      "source": [
        "class RBFNet(object):\n",
        "    \"\"\"Implementation of a Radial Basis Function Network\"\"\"\n",
        "\n",
        "    def __init__(self, k=3, attnumber=4, lr=0.01, epochs=100, rbf=rbfGaussiana, \n",
        "                 computeStds=computeEqualStds, n_classes=1):\n",
        "        self.k = k  # grupos ou numero de neuronios na camada escondida\n",
        "        self.lr = lr  # taxa de aprendizagem\n",
        "        self.epochs = epochs  # número de iterações\n",
        "        self.rbf = rbf  # função de base radial\n",
        "        self.computeStds = computeStds  # função largura do campo receptivo\n",
        "        self.w = [np.random.randn(self.k, attnumber) for _ in range(n_classes)]\n",
        "        self.b = np.random.randn(n_classes)\n",
        "\n",
        "    def fit(self, X, y):\n",
        "        self.stds = []\n",
        "        # 1º parâmetro da rede RBF\n",
        "        kmeans = KMeans(\n",
        "            n_clusters=self.k, init='random',\n",
        "            n_init=10, max_iter=300).fit(X)\n",
        "        self.centers = kmeans.cluster_centers_\n",
        "\n",
        "        # 2º parâmetro da rede RBF (largura do campo receptivo)\n",
        "        self.stds = self.computeStds(self.centers, self.k)\n",
        "        for epoch in range(self.epochs):\n",
        "            loss_rate = 0\n",
        "            for i in range(X.shape[0]):\n",
        "                phi = np.array([self.rbf(X[i], c, s)\n",
        "                                for c, s, in zip(self.centers, self.stds)])\n",
        "                # calcula somatório do produto da saída da função de base radial e os pesos\n",
        "                output = []\n",
        "                for _w, _b in zip(self.w, self.b):\n",
        "                    F = np.sum(phi.T.dot(_w))+_b\n",
        "                    output.append(0 if F < 0 else 1)\n",
        "                # função de perda\n",
        "                loss = np.sum((y[i] - output) ** 2)\n",
        "                loss_rate += loss\n",
        "                # cálculo do erro\n",
        "                errors = y[i] - output\n",
        "                # 3º Parâmetro da rede (atualização dos pesos)\n",
        "                for j in range(len(self.b)):\n",
        "                    self.w[j] = self.w[j] + self.lr * errors[j] * phi\n",
        "                    self.b[j] = self.b[j] + self.lr * errors[j]\n",
        "            # print(loss_rate)\n",
        "\n",
        "    # calcula saída da rede RBF com a rede treinada\n",
        "    def predict(self, X):\n",
        "        y_pred = []\n",
        "        error = 0\n",
        "        for i in range(X.shape[0]):\n",
        "            phi = np.array([self.rbf(X[i], c, s)\n",
        "                            for c, s, in zip(self.centers, self.stds)])\n",
        "            output = []\n",
        "            for _w, _b in zip(self.w, self.b):\n",
        "                F = np.sum(phi.T.dot(_w))+_b\n",
        "                output.append(0 if F < 0 else 1)\n",
        "            y_pred.append(output)\n",
        "        return np.array(y_pred)"
      ],
      "execution_count": 141,
      "outputs": []
    },
    {
      "cell_type": "markdown",
      "metadata": {
        "id": "6nRjE3L08lL8"
      },
      "source": [
        "Execução da rede RBF com a base Íris. Para avaliar os resultados, cada configuração foi executada 10 vezes. A média e o desvio padrão foram calculados para melhor avaliação dos resultados\n"
      ]
    },
    {
      "cell_type": "code",
      "metadata": {
        "colab": {
          "base_uri": "https://localhost:8080/"
        },
        "id": "YHIHNbkS8804",
        "outputId": "9c0ffe96-059c-400a-c6df-3728d2ed74a9"
      },
      "source": [
        "from sklearn.preprocessing import OneHotEncoder\n",
        "\n",
        "# chama função que carrega base de dados\n",
        "training_inputs, test_inputs, training_labels, test_labels = load_data()\n",
        "# transformação dos rótulos do conjunto de treinamento e teste\n",
        "enc = OneHotEncoder(handle_unknown='ignore')\n",
        "training_labels_transformed = enc.fit_transform(\n",
        "    training_labels.values.reshape(-1, 1)).toarray()\n",
        "test_labels_transformed = enc.fit_transform(\n",
        "    test_labels.values.reshape(-1, 1)).toarray()\n",
        "# parâmetros do número de neuronios na camada escondida\n",
        "n_neurons = [3, 5, 7, 9]\n",
        "for n in n_neurons:\n",
        "    outputs=[]\n",
        "    print(\"Rede RBF com {} neurônios na camada escondida\".format(n))\n",
        "    for _ in range(10):\n",
        "        # iniciando a RBF\n",
        "        rbfnet = RBFNet(lr=1e-2, attnumber=4, k=n, rbf=multiquadratica_inversa,\n",
        "                        computeStds=computeEqualStds, n_classes=3)\n",
        "        # treinamento da RBF\n",
        "        rbfnet.fit(training_inputs.values, training_labels_transformed)\n",
        "        # predição\n",
        "        y_pred = rbfnet.predict(test_inputs.values)\n",
        "        # cálculo da taxa de acerto e erro\n",
        "        rate = [0 if False in (_p == _y) else 1 for _p, _y in zip(\n",
        "            test_labels_transformed, y_pred)]\n",
        "        outputs.append(np.sum(rate)/len(test_labels_transformed))\n",
        "        print('\\tTaxa de acerto: ', np.sum(\n",
        "            rate)/len(test_labels_transformed))\n",
        "        print('\\tTaxa de erro: ', 1 -\n",
        "            (np.sum(rate)/len(test_labels_transformed)))\n",
        "    print('\\tMédia taxa de acerto: ', np.mean(outputs))\n",
        "    print('\\tMédia taxa de erro: ', 1-np.mean(outputs))\n",
        "    print('\\tDesvio Padrão: ', np.std(outputs))\n"
      ],
      "execution_count": 149,
      "outputs": [
        {
          "output_type": "stream",
          "text": [
            "Rede RBF com 3 neurônios na camada escondida\n",
            "\tTaxa de acerto:  0.8333333333333334\n",
            "\tTaxa de erro:  0.16666666666666663\n",
            "\tTaxa de acerto:  0.7666666666666667\n",
            "\tTaxa de erro:  0.23333333333333328\n",
            "\tTaxa de acerto:  0.8\n",
            "\tTaxa de erro:  0.19999999999999996\n",
            "\tTaxa de acerto:  0.8333333333333334\n",
            "\tTaxa de erro:  0.16666666666666663\n",
            "\tTaxa de acerto:  0.8\n",
            "\tTaxa de erro:  0.19999999999999996\n",
            "\tTaxa de acerto:  0.8333333333333334\n",
            "\tTaxa de erro:  0.16666666666666663\n",
            "\tTaxa de acerto:  0.7666666666666667\n",
            "\tTaxa de erro:  0.23333333333333328\n",
            "\tTaxa de acerto:  0.8\n",
            "\tTaxa de erro:  0.19999999999999996\n",
            "\tTaxa de acerto:  0.8333333333333334\n",
            "\tTaxa de erro:  0.16666666666666663\n",
            "\tTaxa de acerto:  0.8\n",
            "\tTaxa de erro:  0.19999999999999996\n",
            "\tMédia taxa de acerto:  0.8066666666666666\n",
            "\tMédia taxa de erro:  0.19333333333333336\n",
            "\tDesvio Padrão:  0.024944382578492935\n",
            "Rede RBF com 5 neurônios na camada escondida\n",
            "\tTaxa de acerto:  0.7333333333333333\n",
            "\tTaxa de erro:  0.2666666666666667\n",
            "\tTaxa de acerto:  0.7333333333333333\n",
            "\tTaxa de erro:  0.2666666666666667\n",
            "\tTaxa de acerto:  0.8\n",
            "\tTaxa de erro:  0.19999999999999996\n",
            "\tTaxa de acerto:  0.8333333333333334\n",
            "\tTaxa de erro:  0.16666666666666663\n",
            "\tTaxa de acerto:  0.6\n",
            "\tTaxa de erro:  0.4\n",
            "\tTaxa de acerto:  0.7666666666666667\n",
            "\tTaxa de erro:  0.23333333333333328\n",
            "\tTaxa de acerto:  0.7\n",
            "\tTaxa de erro:  0.30000000000000004\n",
            "\tTaxa de acerto:  0.7666666666666667\n",
            "\tTaxa de erro:  0.23333333333333328\n",
            "\tTaxa de acerto:  0.8666666666666667\n",
            "\tTaxa de erro:  0.1333333333333333\n",
            "\tTaxa de acerto:  0.7333333333333333\n",
            "\tTaxa de erro:  0.2666666666666667\n",
            "\tMédia taxa de acerto:  0.7533333333333334\n",
            "\tMédia taxa de erro:  0.2466666666666666\n",
            "\tDesvio Padrão:  0.07023769168568496\n",
            "Rede RBF com 7 neurônios na camada escondida\n",
            "\tTaxa de acerto:  0.9\n",
            "\tTaxa de erro:  0.09999999999999998\n",
            "\tTaxa de acerto:  0.8333333333333334\n",
            "\tTaxa de erro:  0.16666666666666663\n",
            "\tTaxa de acerto:  0.8666666666666667\n",
            "\tTaxa de erro:  0.1333333333333333\n",
            "\tTaxa de acerto:  0.8333333333333334\n",
            "\tTaxa de erro:  0.16666666666666663\n",
            "\tTaxa de acerto:  0.8666666666666667\n",
            "\tTaxa de erro:  0.1333333333333333\n",
            "\tTaxa de acerto:  0.7666666666666667\n",
            "\tTaxa de erro:  0.23333333333333328\n",
            "\tTaxa de acerto:  0.7333333333333333\n",
            "\tTaxa de erro:  0.2666666666666667\n",
            "\tTaxa de acerto:  0.7666666666666667\n",
            "\tTaxa de erro:  0.23333333333333328\n",
            "\tTaxa de acerto:  0.8\n",
            "\tTaxa de erro:  0.19999999999999996\n",
            "\tTaxa de acerto:  0.7666666666666667\n",
            "\tTaxa de erro:  0.23333333333333328\n",
            "\tMédia taxa de acerto:  0.8133333333333332\n",
            "\tMédia taxa de erro:  0.18666666666666676\n",
            "\tDesvio Padrão:  0.052068331172711035\n",
            "Rede RBF com 9 neurônios na camada escondida\n",
            "\tTaxa de acerto:  0.8666666666666667\n",
            "\tTaxa de erro:  0.1333333333333333\n",
            "\tTaxa de acerto:  0.9\n",
            "\tTaxa de erro:  0.09999999999999998\n",
            "\tTaxa de acerto:  0.9\n",
            "\tTaxa de erro:  0.09999999999999998\n",
            "\tTaxa de acerto:  0.8333333333333334\n",
            "\tTaxa de erro:  0.16666666666666663\n",
            "\tTaxa de acerto:  0.8333333333333334\n",
            "\tTaxa de erro:  0.16666666666666663\n",
            "\tTaxa de acerto:  0.9\n",
            "\tTaxa de erro:  0.09999999999999998\n",
            "\tTaxa de acerto:  0.8333333333333334\n",
            "\tTaxa de erro:  0.16666666666666663\n",
            "\tTaxa de acerto:  0.7666666666666667\n",
            "\tTaxa de erro:  0.23333333333333328\n",
            "\tTaxa de acerto:  0.9\n",
            "\tTaxa de erro:  0.09999999999999998\n",
            "\tTaxa de acerto:  0.8666666666666667\n",
            "\tTaxa de erro:  0.1333333333333333\n",
            "\tMédia taxa de acerto:  0.8600000000000001\n",
            "\tMédia taxa de erro:  0.1399999999999999\n",
            "\tDesvio Padrão:  0.04163331998932265\n"
          ],
          "name": "stdout"
        }
      ]
    },
    {
      "cell_type": "markdown",
      "metadata": {
        "id": "GT-hyAam3hny"
      },
      "source": [
        "\n",
        "Os resutados variaram pouco e não houve uma diferença significativa da acurácia entre as configurações, entretanto há uma tendência de uma menor taxa de erro para a configuração com 9 neurônios na camada escondida dentre as quatro opções. A seguir a rede é avaliada com a quantidade maior de neurônios na camada escondida"
      ]
    },
    {
      "cell_type": "code",
      "metadata": {
        "colab": {
          "base_uri": "https://localhost:8080/"
        },
        "id": "2me2jhEn73yN",
        "outputId": "0cdc153a-9fe1-4909-d004-c7e7f9c6a279"
      },
      "source": [
        "from sklearn.preprocessing import OneHotEncoder\n",
        "\n",
        "# chama função que carrega base de dados\n",
        "training_inputs, test_inputs, training_labels, test_labels = load_data()\n",
        "# transformação dos rótulos do conjunto de treinamento e teste\n",
        "enc = OneHotEncoder(handle_unknown='ignore')\n",
        "training_labels_transformed = enc.fit_transform(\n",
        "    training_labels.values.reshape(-1, 1)).toarray()\n",
        "test_labels_transformed = enc.fit_transform(\n",
        "    test_labels.values.reshape(-1, 1)).toarray()\n",
        "# parâmetros do número de neuronios na camada escondida\n",
        "n_neurons = [20, 30, 50]\n",
        "for n in n_neurons:\n",
        "    outputs=[]\n",
        "    print(\"Rede RBF com {} neurônios na camada escondida\".format(n))\n",
        "    for _ in range(10):\n",
        "        # iniciando a RBF\n",
        "        rbfnet = RBFNet(lr=1e-2, attnumber=4, k=n, rbf=multiquadratica_inversa,\n",
        "                        computeStds=computeEqualStds, n_classes=3)\n",
        "        # treinamento da RBF\n",
        "        rbfnet.fit(training_inputs.values, training_labels_transformed)\n",
        "        # predição\n",
        "        y_pred = rbfnet.predict(test_inputs.values)\n",
        "        # cálculo da taxa de acerto e erro\n",
        "        rate = [0 if False in (_p == _y) else 1 for _p, _y in zip(\n",
        "            test_labels_transformed, y_pred)]\n",
        "        outputs.append(np.sum(rate)/len(test_labels_transformed))\n",
        "        print('\\tTaxa de acerto: ', np.sum(\n",
        "            rate)/len(test_labels_transformed))\n",
        "        print('\\tTaxa de erro: ', 1 -\n",
        "            (np.sum(rate)/len(test_labels_transformed)))\n",
        "    print('\\tMédia taxa de acerto: ', np.mean(outputs))\n",
        "    print('\\tMédia taxa de erro: ', 1-np.mean(outputs))\n",
        "    print('\\tDesvio Padrão: ', np.std(outputs))"
      ],
      "execution_count": 150,
      "outputs": [
        {
          "output_type": "stream",
          "text": [
            "Rede RBF com 20 neurônios na camada escondida\n",
            "\tTaxa de acerto:  0.8333333333333334\n",
            "\tTaxa de erro:  0.16666666666666663\n",
            "\tTaxa de acerto:  0.8333333333333334\n",
            "\tTaxa de erro:  0.16666666666666663\n",
            "\tTaxa de acerto:  0.9\n",
            "\tTaxa de erro:  0.09999999999999998\n",
            "\tTaxa de acerto:  0.8333333333333334\n",
            "\tTaxa de erro:  0.16666666666666663\n",
            "\tTaxa de acerto:  0.9\n",
            "\tTaxa de erro:  0.09999999999999998\n",
            "\tTaxa de acerto:  0.8666666666666667\n",
            "\tTaxa de erro:  0.1333333333333333\n",
            "\tTaxa de acerto:  0.8333333333333334\n",
            "\tTaxa de erro:  0.16666666666666663\n",
            "\tTaxa de acerto:  0.8666666666666667\n",
            "\tTaxa de erro:  0.1333333333333333\n",
            "\tTaxa de acerto:  0.9\n",
            "\tTaxa de erro:  0.09999999999999998\n",
            "\tTaxa de acerto:  0.8\n",
            "\tTaxa de erro:  0.19999999999999996\n",
            "\tMédia taxa de acerto:  0.8566666666666668\n",
            "\tMédia taxa de erro:  0.1433333333333332\n",
            "\tDesvio Padrão:  0.0334995854037363\n",
            "Rede RBF com 30 neurônios na camada escondida\n",
            "\tTaxa de acerto:  0.9\n",
            "\tTaxa de erro:  0.09999999999999998\n",
            "\tTaxa de acerto:  0.9\n",
            "\tTaxa de erro:  0.09999999999999998\n",
            "\tTaxa de acerto:  0.9\n",
            "\tTaxa de erro:  0.09999999999999998\n",
            "\tTaxa de acerto:  0.9\n",
            "\tTaxa de erro:  0.09999999999999998\n",
            "\tTaxa de acerto:  0.9\n",
            "\tTaxa de erro:  0.09999999999999998\n",
            "\tTaxa de acerto:  0.9\n",
            "\tTaxa de erro:  0.09999999999999998\n",
            "\tTaxa de acerto:  0.8666666666666667\n",
            "\tTaxa de erro:  0.1333333333333333\n",
            "\tTaxa de acerto:  0.8666666666666667\n",
            "\tTaxa de erro:  0.1333333333333333\n",
            "\tTaxa de acerto:  0.9\n",
            "\tTaxa de erro:  0.09999999999999998\n",
            "\tTaxa de acerto:  0.9\n",
            "\tTaxa de erro:  0.09999999999999998\n",
            "\tMédia taxa de acerto:  0.8933333333333333\n",
            "\tMédia taxa de erro:  0.10666666666666669\n",
            "\tDesvio Padrão:  0.01333333333333333\n",
            "Rede RBF com 50 neurônios na camada escondida\n",
            "\tTaxa de acerto:  0.9\n",
            "\tTaxa de erro:  0.09999999999999998\n",
            "\tTaxa de acerto:  0.9\n",
            "\tTaxa de erro:  0.09999999999999998\n",
            "\tTaxa de acerto:  0.9\n",
            "\tTaxa de erro:  0.09999999999999998\n",
            "\tTaxa de acerto:  0.8666666666666667\n",
            "\tTaxa de erro:  0.1333333333333333\n",
            "\tTaxa de acerto:  0.9\n",
            "\tTaxa de erro:  0.09999999999999998\n",
            "\tTaxa de acerto:  0.9\n",
            "\tTaxa de erro:  0.09999999999999998\n",
            "\tTaxa de acerto:  0.8666666666666667\n",
            "\tTaxa de erro:  0.1333333333333333\n",
            "\tTaxa de acerto:  0.9\n",
            "\tTaxa de erro:  0.09999999999999998\n",
            "\tTaxa de acerto:  0.9\n",
            "\tTaxa de erro:  0.09999999999999998\n",
            "\tTaxa de acerto:  0.9\n",
            "\tTaxa de erro:  0.09999999999999998\n",
            "\tMédia taxa de acerto:  0.8933333333333333\n",
            "\tMédia taxa de erro:  0.10666666666666669\n",
            "\tDesvio Padrão:  0.01333333333333333\n"
          ],
          "name": "stdout"
        }
      ]
    },
    {
      "cell_type": "markdown",
      "metadata": {
        "id": "TFOya_G9FFuW"
      },
      "source": [
        "Com a quantidade de neurônios maior é possivel visualizar uma melhoria na acurácia. Isso se explica pela maior robustez do classificador, por meio da combinação de mais funções de base radial, no ajuste de regiões de segregação das classes no espaço de características. Outros parâmetros, como por exemplo, a quantidade de épocas, taxa de aprendizagem, parâmetros do K-means e entre outros também precisariam ser avaliados para melhor ajuste da rede"
      ]
    },
    {
      "cell_type": "markdown",
      "metadata": {
        "id": "GFIWZgv_4bS1"
      },
      "source": [
        "**Reposta questão 2**\n",
        "\n",
        "A função abaixo mostra uma opção para calcular a largura do campo receptivo da função de base radial para cada neurônio\n"
      ]
    },
    {
      "cell_type": "code",
      "metadata": {
        "id": "S1MY9Pzr4iGF"
      },
      "source": [
        "def compute_differents_stds(centers, k):\n",
        "    dist = [np.sqrt(np.sum((c1 - c2) ** 2))\n",
        "            for c1 in centers for c2 in centers if False in (c1 == c2)]\n",
        "    dMin = np.min(dist)\n",
        "    stds = np.repeat(dMin / 2, k)\n",
        "    return stds"
      ],
      "execution_count": 153,
      "outputs": []
    },
    {
      "cell_type": "markdown",
      "metadata": {
        "id": "bVeFHOg0-6VI"
      },
      "source": [
        "Calculando a taxa de erro usando a configuração com 9 neurônios na camada oculta e com a largura individual do campo receptivo dos neurônios\n"
      ]
    },
    {
      "cell_type": "code",
      "metadata": {
        "colab": {
          "base_uri": "https://localhost:8080/"
        },
        "id": "B8uvNxMg-5pC",
        "outputId": "c5eed180-5834-47ef-8c03-b8cb464fc8b3"
      },
      "source": [
        "from sklearn.preprocessing import OneHotEncoder\n",
        "\n",
        "# chama função que carrega base de dados\n",
        "training_inputs, test_inputs, training_labels, test_labels = load_data()\n",
        "# transformação dos rótulos do conjunto de treinamento e teste\n",
        "enc = OneHotEncoder(handle_unknown='ignore')\n",
        "training_labels_transformed = enc.fit_transform(\n",
        "    training_labels.values.reshape(-1, 1)).toarray()\n",
        "test_labels_transformed = enc.fit_transform(\n",
        "    test_labels.values.reshape(-1, 1)).toarray()\n",
        "best=9\n",
        "print(\"Rede RBF com {} neurônios na camada escondida\".format(best))\n",
        "# iniciando a RBF\n",
        "rbfnet = RBFNet(lr=1e-2, attnumber=4, k=best, rbf=multiquadratica_inversa,\n",
        "                computeStds=compute_differents_stds, n_classes=3)\n",
        "# treinamento da RBF\n",
        "rbfnet.fit(training_inputs.values, training_labels_transformed)\n",
        "# predição\n",
        "y_pred = rbfnet.predict(test_inputs.values)\n",
        "# cálculo da taxa de acerto e erro\n",
        "rate = [0 if False in (_p == _y) else 1 for _p, _y in zip(\n",
        "    test_labels_transformed, y_pred)]\n",
        "print('\\tTaxa de acerto: ', np.sum(\n",
        "    rate)/len(test_labels_transformed))\n",
        "print('\\tTaxa de erro: ', 1 -\n",
        "    (np.sum(rate)/len(test_labels_transformed)))\n"
      ],
      "execution_count": 154,
      "outputs": [
        {
          "output_type": "stream",
          "text": [
            "Rede RBF com 9 neurônios na camada escondida\n",
            "\tTaxa de acerto:  0.9\n",
            "\tTaxa de erro:  0.09999999999999998\n"
          ],
          "name": "stdout"
        }
      ]
    },
    {
      "cell_type": "markdown",
      "metadata": {
        "id": "F0ptY8CmCarB"
      },
      "source": [
        "**Reposta questão 3**\n"
      ]
    },
    {
      "cell_type": "code",
      "metadata": {
        "colab": {
          "base_uri": "https://localhost:8080/"
        },
        "id": "p3pS9aJQC-_b",
        "outputId": "87efd94c-02e8-43c5-9ebe-cb8883627890"
      },
      "source": [
        "from sklearn.preprocessing import OneHotEncoder\n",
        "\n",
        "# chama função que carrega base de dados\n",
        "training_inputs, test_inputs, training_labels, test_labels = load_data()\n",
        "# transformação dos rótulos do conjunto de treinamento e teste\n",
        "enc = OneHotEncoder(handle_unknown='ignore')\n",
        "training_labels_transformed = enc.fit_transform(\n",
        "    training_labels.values.reshape(-1, 1)).toarray()\n",
        "test_labels_transformed = enc.fit_transform(\n",
        "    test_labels.values.reshape(-1, 1)).toarray()\n",
        "\n",
        "_functions = [rbfGaussiana, multiquadratica_inversa]\n",
        "_stds = [computeEqualStds, compute_differents_stds]\n",
        "best=9\n",
        "for _function in _functions:\n",
        "    for _std in _stds:\n",
        "        print(\"Função de base radial: \", _function.__name__)\n",
        "        print(\"Função da largura do campo receptivo: \", _std.__name__)\n",
        "        outputs=[]\n",
        "        for _ in range(10):\n",
        "            # iniciando a RBF\n",
        "            rbfnet = RBFNet(lr=1e-2, attnumber=4, k=best, rbf=_function,\n",
        "                            computeStds=_std, n_classes=3)\n",
        "            # treinamento da RBF\n",
        "            rbfnet.fit(training_inputs.values, training_labels_transformed)\n",
        "            # predição\n",
        "            y_pred = rbfnet.predict(test_inputs.values)\n",
        "            # cálculo da taxa de acerto e erro\n",
        "            rate = [0 if False in (_p == _y) else 1 for _p, _y in zip(\n",
        "                test_labels_transformed, y_pred)]\n",
        "            outputs.append(np.sum(rate)/len(test_labels_transformed))\n",
        "            print('\\tTaxa de acerto: ', np.sum(\n",
        "                rate)/len(test_labels_transformed))\n",
        "            print('\\tTaxa de erro: ', 1 -\n",
        "                (np.sum(rate)/len(test_labels_transformed)))\n",
        "        print('\\tMédia taxa de acerto: ', np.mean(outputs))\n",
        "        print('\\tMédia taxa de erro: ', 1-np.mean(outputs))\n",
        "        print('\\tDesvio Padrão: ', np.std(outputs))"
      ],
      "execution_count": 155,
      "outputs": [
        {
          "output_type": "stream",
          "text": [
            "Função de base radial:  rbfGaussiana\n",
            "Função da largura do campo receptivo:  computeEqualStds\n",
            "\tTaxa de acerto:  0.8\n",
            "\tTaxa de erro:  0.19999999999999996\n",
            "\tTaxa de acerto:  0.7666666666666667\n",
            "\tTaxa de erro:  0.23333333333333328\n",
            "\tTaxa de acerto:  0.8666666666666667\n",
            "\tTaxa de erro:  0.1333333333333333\n",
            "\tTaxa de acerto:  0.8\n",
            "\tTaxa de erro:  0.19999999999999996\n",
            "\tTaxa de acerto:  0.8666666666666667\n",
            "\tTaxa de erro:  0.1333333333333333\n",
            "\tTaxa de acerto:  0.8333333333333334\n",
            "\tTaxa de erro:  0.16666666666666663\n",
            "\tTaxa de acerto:  0.8\n",
            "\tTaxa de erro:  0.19999999999999996\n",
            "\tTaxa de acerto:  0.8333333333333334\n",
            "\tTaxa de erro:  0.16666666666666663\n",
            "\tTaxa de acerto:  0.8\n",
            "\tTaxa de erro:  0.19999999999999996\n",
            "\tTaxa de acerto:  0.9\n",
            "\tTaxa de erro:  0.09999999999999998\n",
            "\tMédia taxa de acerto:  0.8266666666666665\n",
            "\tMédia taxa de erro:  0.17333333333333345\n",
            "\tDesvio Padrão:  0.038873012632301994\n",
            "Função de base radial:  rbfGaussiana\n",
            "Função da largura do campo receptivo:  compute_differents_stds\n",
            "\tTaxa de acerto:  0.7666666666666667\n",
            "\tTaxa de erro:  0.23333333333333328\n",
            "\tTaxa de acerto:  0.8333333333333334\n",
            "\tTaxa de erro:  0.16666666666666663\n",
            "\tTaxa de acerto:  0.8666666666666667\n",
            "\tTaxa de erro:  0.1333333333333333\n",
            "\tTaxa de acerto:  0.9\n",
            "\tTaxa de erro:  0.09999999999999998\n",
            "\tTaxa de acerto:  0.8333333333333334\n",
            "\tTaxa de erro:  0.16666666666666663\n",
            "\tTaxa de acerto:  0.9\n",
            "\tTaxa de erro:  0.09999999999999998\n",
            "\tTaxa de acerto:  0.8666666666666667\n",
            "\tTaxa de erro:  0.1333333333333333\n",
            "\tTaxa de acerto:  0.8666666666666667\n",
            "\tTaxa de erro:  0.1333333333333333\n",
            "\tTaxa de acerto:  0.8333333333333334\n",
            "\tTaxa de erro:  0.16666666666666663\n",
            "\tTaxa de acerto:  0.9\n",
            "\tTaxa de erro:  0.09999999999999998\n",
            "\tMédia taxa de acerto:  0.8566666666666667\n",
            "\tMédia taxa de erro:  0.1433333333333333\n",
            "\tDesvio Padrão:  0.03958114029012638\n",
            "Função de base radial:  multiquadratica_inversa\n",
            "Função da largura do campo receptivo:  computeEqualStds\n",
            "\tTaxa de acerto:  0.7666666666666667\n",
            "\tTaxa de erro:  0.23333333333333328\n",
            "\tTaxa de acerto:  0.9\n",
            "\tTaxa de erro:  0.09999999999999998\n",
            "\tTaxa de acerto:  0.8666666666666667\n",
            "\tTaxa de erro:  0.1333333333333333\n",
            "\tTaxa de acerto:  0.8666666666666667\n",
            "\tTaxa de erro:  0.1333333333333333\n",
            "\tTaxa de acerto:  0.7666666666666667\n",
            "\tTaxa de erro:  0.23333333333333328\n",
            "\tTaxa de acerto:  0.8\n",
            "\tTaxa de erro:  0.19999999999999996\n",
            "\tTaxa de acerto:  0.8\n",
            "\tTaxa de erro:  0.19999999999999996\n",
            "\tTaxa de acerto:  0.8666666666666667\n",
            "\tTaxa de erro:  0.1333333333333333\n",
            "\tTaxa de acerto:  0.8333333333333334\n",
            "\tTaxa de erro:  0.16666666666666663\n",
            "\tTaxa de acerto:  0.8333333333333334\n",
            "\tTaxa de erro:  0.16666666666666663\n",
            "\tMédia taxa de acerto:  0.8300000000000001\n",
            "\tMédia taxa de erro:  0.16999999999999993\n",
            "\tDesvio Padrão:  0.04333333333333332\n",
            "Função de base radial:  multiquadratica_inversa\n",
            "Função da largura do campo receptivo:  compute_differents_stds\n",
            "\tTaxa de acerto:  0.9\n",
            "\tTaxa de erro:  0.09999999999999998\n",
            "\tTaxa de acerto:  0.9\n",
            "\tTaxa de erro:  0.09999999999999998\n",
            "\tTaxa de acerto:  0.9\n",
            "\tTaxa de erro:  0.09999999999999998\n",
            "\tTaxa de acerto:  0.9\n",
            "\tTaxa de erro:  0.09999999999999998\n",
            "\tTaxa de acerto:  0.9\n",
            "\tTaxa de erro:  0.09999999999999998\n",
            "\tTaxa de acerto:  0.9\n",
            "\tTaxa de erro:  0.09999999999999998\n",
            "\tTaxa de acerto:  0.8666666666666667\n",
            "\tTaxa de erro:  0.1333333333333333\n",
            "\tTaxa de acerto:  0.9\n",
            "\tTaxa de erro:  0.09999999999999998\n",
            "\tTaxa de acerto:  0.9\n",
            "\tTaxa de erro:  0.09999999999999998\n",
            "\tTaxa de acerto:  0.9\n",
            "\tTaxa de erro:  0.09999999999999998\n",
            "\tMédia taxa de acerto:  0.8966666666666667\n",
            "\tMédia taxa de erro:  0.10333333333333328\n",
            "\tDesvio Padrão:  0.009999999999999998\n"
          ],
          "name": "stdout"
        }
      ]
    },
    {
      "cell_type": "markdown",
      "metadata": {
        "id": "sRfNU9p3M81Q"
      },
      "source": [
        "Apesar dos resultados variarem pouco, é possível observar que para essa base de dados, alterando apenas a função da largura do campo receptivo e mantendo os outros parâmetros da rede, há uma tendência das combinações que envolvem o cálculo individual dos campos receptivos obterem uma melhor acurácia. Nesse contexto, a melhor configuração foi realizada pela combinação da função de base radial multiquadrática inversa junto com a função da largura do campo receptivo individual."
      ]
    }
  ]
}