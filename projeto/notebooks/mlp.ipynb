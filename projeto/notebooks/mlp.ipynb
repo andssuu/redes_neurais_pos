{
  "nbformat": 4,
  "nbformat_minor": 0,
  "metadata": {
    "colab": {
      "name": "mlp.ipynb",
      "provenance": [],
      "collapsed_sections": [],
      "authorship_tag": "ABX9TyNUUnXp3HQeF2xSyKvLGpLZ",
      "include_colab_link": true
    },
    "kernelspec": {
      "name": "python3",
      "display_name": "Python 3"
    }
  },
  "cells": [
    {
      "cell_type": "markdown",
      "metadata": {
        "id": "view-in-github",
        "colab_type": "text"
      },
      "source": [
        "<a href=\"https://colab.research.google.com/github/andssuu/redes_neurais_pos/blob/main/projeto/notebooks/mlp.ipynb\" target=\"_parent\"><img src=\"https://colab.research.google.com/assets/colab-badge.svg\" alt=\"Open In Colab\"/></a>"
      ]
    },
    {
      "cell_type": "code",
      "metadata": {
        "colab": {
          "base_uri": "https://localhost:8080/"
        },
        "id": "mIY84RsMjgJJ",
        "outputId": "9662cfff-b5cb-4a9a-9e8a-290f86833732"
      },
      "source": [
        "!git clone https://github.com/andssuu/redes_neurais_pos.git"
      ],
      "execution_count": 1,
      "outputs": [
        {
          "output_type": "stream",
          "text": [
            "Cloning into 'redes_neurais_pos'...\n",
            "remote: Enumerating objects: 145, done.\u001b[K\n",
            "remote: Counting objects: 100% (145/145), done.\u001b[K\n",
            "remote: Compressing objects: 100% (126/126), done.\u001b[K\n",
            "remote: Total 145 (delta 42), reused 42 (delta 8), pack-reused 0\u001b[K\n",
            "Receiving objects: 100% (145/145), 18.31 MiB | 29.53 MiB/s, done.\n",
            "Resolving deltas: 100% (42/42), done.\n"
          ],
          "name": "stdout"
        }
      ]
    },
    {
      "cell_type": "code",
      "metadata": {
        "colab": {
          "base_uri": "https://localhost:8080/",
          "height": 204
        },
        "id": "177y-SxGil_J",
        "outputId": "b9d66cc5-09e5-4623-b4f7-1fff76c18778"
      },
      "source": [
        "import warnings\n",
        "warnings.filterwarnings(\"ignore\")\n",
        "\n",
        "import numpy as np\n",
        "import pandas as pd\n",
        "from sklearn import preprocessing\n",
        "from sklearn.neural_network import MLPClassifier\n",
        "from sklearn.model_selection import cross_val_score\n",
        "\n",
        "df = pd.read_csv('redes_neurais_pos/projeto/data/lomba.csv')\n",
        "data = df[df.columns[1:10]]\n",
        "labels = df[df.columns[-1]]\n",
        "le = preprocessing.LabelEncoder()\n",
        "le.fit(labels.values)\n",
        "labels = le.transform(labels.values)\n",
        "data.head()"
      ],
      "execution_count": 19,
      "outputs": [
        {
          "output_type": "execute_result",
          "data": {
            "text/html": [
              "<div>\n",
              "<style scoped>\n",
              "    .dataframe tbody tr th:only-of-type {\n",
              "        vertical-align: middle;\n",
              "    }\n",
              "\n",
              "    .dataframe tbody tr th {\n",
              "        vertical-align: top;\n",
              "    }\n",
              "\n",
              "    .dataframe thead th {\n",
              "        text-align: right;\n",
              "    }\n",
              "</style>\n",
              "<table border=\"1\" class=\"dataframe\">\n",
              "  <thead>\n",
              "    <tr style=\"text-align: right;\">\n",
              "      <th></th>\n",
              "      <th>acc_x</th>\n",
              "      <th>acc_y</th>\n",
              "      <th>acc_z</th>\n",
              "      <th>mag_x</th>\n",
              "      <th>mag_y</th>\n",
              "      <th>mag_z</th>\n",
              "      <th>giro_x</th>\n",
              "      <th>giro_y</th>\n",
              "      <th>giro_z</th>\n",
              "    </tr>\n",
              "  </thead>\n",
              "  <tbody>\n",
              "    <tr>\n",
              "      <th>0</th>\n",
              "      <td>-11889</td>\n",
              "      <td>11184</td>\n",
              "      <td>-17877</td>\n",
              "      <td>-1280</td>\n",
              "      <td>-73</td>\n",
              "      <td>-309</td>\n",
              "      <td>-4013</td>\n",
              "      <td>1260</td>\n",
              "      <td>-31</td>\n",
              "    </tr>\n",
              "    <tr>\n",
              "      <th>1</th>\n",
              "      <td>-9144</td>\n",
              "      <td>8945</td>\n",
              "      <td>-11799</td>\n",
              "      <td>-1213</td>\n",
              "      <td>707</td>\n",
              "      <td>-238</td>\n",
              "      <td>-394</td>\n",
              "      <td>2278</td>\n",
              "      <td>-602</td>\n",
              "    </tr>\n",
              "    <tr>\n",
              "      <th>2</th>\n",
              "      <td>6391</td>\n",
              "      <td>9265</td>\n",
              "      <td>-11767</td>\n",
              "      <td>570</td>\n",
              "      <td>-405</td>\n",
              "      <td>-1533</td>\n",
              "      <td>-1072</td>\n",
              "      <td>-1094</td>\n",
              "      <td>1854</td>\n",
              "    </tr>\n",
              "    <tr>\n",
              "      <th>3</th>\n",
              "      <td>-1394</td>\n",
              "      <td>10206</td>\n",
              "      <td>-13229</td>\n",
              "      <td>671</td>\n",
              "      <td>-73</td>\n",
              "      <td>-1590</td>\n",
              "      <td>287</td>\n",
              "      <td>2253</td>\n",
              "      <td>-2760</td>\n",
              "    </tr>\n",
              "    <tr>\n",
              "      <th>4</th>\n",
              "      <td>-4864</td>\n",
              "      <td>5953</td>\n",
              "      <td>-10472</td>\n",
              "      <td>-84</td>\n",
              "      <td>-200</td>\n",
              "      <td>-1767</td>\n",
              "      <td>-7101</td>\n",
              "      <td>9206</td>\n",
              "      <td>-3595</td>\n",
              "    </tr>\n",
              "  </tbody>\n",
              "</table>\n",
              "</div>"
            ],
            "text/plain": [
              "   acc_x  acc_y  acc_z  mag_x  mag_y  mag_z  giro_x  giro_y  giro_z\n",
              "0 -11889  11184 -17877  -1280    -73   -309   -4013    1260     -31\n",
              "1  -9144   8945 -11799  -1213    707   -238    -394    2278    -602\n",
              "2   6391   9265 -11767    570   -405  -1533   -1072   -1094    1854\n",
              "3  -1394  10206 -13229    671    -73  -1590     287    2253   -2760\n",
              "4  -4864   5953 -10472    -84   -200  -1767   -7101    9206   -3595"
            ]
          },
          "metadata": {
            "tags": []
          },
          "execution_count": 19
        }
      ]
    },
    {
      "cell_type": "code",
      "metadata": {
        "colab": {
          "base_uri": "https://localhost:8080/"
        },
        "id": "YBoT0lhzr6UK",
        "outputId": "f5ffbd45-9011-4a4d-a512-763b05e5353e"
      },
      "source": [
        "#sem normalização\n",
        "clf = MLPClassifier(solver='sgd', activation='logistic',\n",
        "                    hidden_layer_sizes=(9, 9), batch_size=24,\n",
        "                    learning_rate_init=0.3, max_iter=20, momentum=0,\n",
        "                    alpha=0, random_state=1)\n",
        "scores = cross_val_score(clf, data, labels, cv=10)\n",
        "[print(\"{}-Fold: {:.2f}\".format(k, score)) for k, score in enumerate(scores, 1)]\n",
        "print(\"Acurácia média: {:.2f}\".format(np.mean(scores)))"
      ],
      "execution_count": 21,
      "outputs": [
        {
          "output_type": "stream",
          "text": [
            "1-Fold: 0.44\n",
            "2-Fold: 0.44\n",
            "3-Fold: 0.44\n",
            "4-Fold: 0.31\n",
            "5-Fold: 0.44\n",
            "6-Fold: 0.44\n",
            "7-Fold: 0.44\n",
            "8-Fold: 0.44\n",
            "9-Fold: 0.44\n",
            "10-Fold: 0.44\n",
            "Acurácia média: 0.42\n"
          ],
          "name": "stdout"
        }
      ]
    },
    {
      "cell_type": "code",
      "metadata": {
        "colab": {
          "base_uri": "https://localhost:8080/"
        },
        "id": "SUgOX4aYsDGy",
        "outputId": "0031a706-7bb5-4576-bc9e-09caae298a95"
      },
      "source": [
        "#com normalização\n",
        "data_normalized = (data - data.min()) / (data.max() - data.min())\n",
        "clf = MLPClassifier(solver='sgd', activation='logistic',\n",
        "                    hidden_layer_sizes=(9, 9), batch_size=24,\n",
        "                    learning_rate_init=0.3, max_iter=20, momentum=0,\n",
        "                    alpha=0, random_state=1)\n",
        "scores = cross_val_score(clf, data_normalized, labels, cv=10)\n",
        "[print(\"{}-Fold: {:.2f}\".format(k, score)) for k, score in enumerate(scores, 1)]\n",
        "print(\"Acurácia média: {:.2f}\".format(np.mean(scores)))"
      ],
      "execution_count": 23,
      "outputs": [
        {
          "output_type": "stream",
          "text": [
            "1-Fold: 0.66\n",
            "2-Fold: 0.58\n",
            "3-Fold: 0.77\n",
            "4-Fold: 0.78\n",
            "5-Fold: 0.74\n",
            "6-Fold: 0.73\n",
            "7-Fold: 0.77\n",
            "8-Fold: 0.63\n",
            "9-Fold: 0.81\n",
            "10-Fold: 0.81\n",
            "Acurácia média: 0.73\n"
          ],
          "name": "stdout"
        }
      ]
    },
    {
      "cell_type": "code",
      "metadata": {
        "id": "ZMe9C83E1j6p"
      },
      "source": [
        "#com normalização\n",
        "data_normalized = (data - data.min()) / (data.max() - data.min())\n",
        "clf = MLPClassifier(solver='sgd', activation='logistic',\n",
        "                    hidden_layer_sizes=(9, 9), batch_size=24,\n",
        "                    learning_rate_init=0.3, max_iter=20, momentum=0,\n",
        "                    alpha=0, random_state=1)\n",
        "scores = cross_val_score(clf, data_normalized, labels, cv=10)\n",
        "[print(\"{}-Fold: {:.2f}\".format(k, score)) for k, score in enumerate(scores, 1)]\n",
        "print(\"Acurácia média: {:.2f}\".format(np.mean(scores)))"
      ],
      "execution_count": null,
      "outputs": []
    }
  ]
}